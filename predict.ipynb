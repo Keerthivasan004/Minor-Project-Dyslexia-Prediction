{
 "cells": [
  {
   "cell_type": "code",
   "execution_count": 15,
   "metadata": {},
   "outputs": [
    {
     "data": {
      "text/plain": [
       "(1.0,\n",
       " '              precision    recall  f1-score   support\\n\\n           0       1.00      1.00      1.00       729\\n\\n    accuracy                           1.00       729\\n   macro avg       1.00      1.00      1.00       729\\nweighted avg       1.00      1.00      1.00       729\\n')"
      ]
     },
     "execution_count": 15,
     "metadata": {},
     "output_type": "execute_result"
    }
   ],
   "source": [
    "from sklearn.model_selection import train_test_split\n",
    "from sklearn.neighbors import KNeighborsClassifier\n",
    "from sklearn.metrics import classification_report, accuracy_score\n",
    "from sklearn.preprocessing import LabelEncoder\n",
    "import numpy as np\n",
    "import pandas as pd\n",
    "\n",
    "# Step 1: Parse the data into a structured format\n",
    "data=pd.read_csv(\"ct5129_dyslexia\\\\data\\\\Dyt-desktop.csv\")\n",
    "# Splitting the single column into multiple columns based on the delimiter';'\n",
    "parsed_data = data.iloc[:, 0].str.split(';', expand=True)\n",
    "\n",
    "# Step 2: Assign meaningful column names\n",
    "columns = [\n",
    "    \"Gender\", \"NativeLang\", \"OtherLang\", \"Age\",\n",
    "    *(f\"Clicks{i};Hits{i};Misses{i};Score{i};Accuracy{i};Missrate{i}\".split(\";\") for i in range(1, 33)),\n",
    "    \"Dyslexia\"\n",
    "]\n",
    "parsed_data.columns = [col for sublist in columns for col in (sublist if isinstance(sublist, list) else [sublist])]\n",
    "\n",
    "# Step 3: Convert relevant columns to numerical and encode categorical features\n",
    "# Example: Encoding Gender and NativeLang\n",
    "parsed_data['Gender'] = LabelEncoder().fit_transform(parsed_data['Gender'])\n",
    "parsed_data['NativeLang'] = LabelEncoder().fit_transform(parsed_data['NativeLang'])\n",
    "parsed_data['OtherLang'] = LabelEncoder().fit_transform(parsed_data['OtherLang'])\n",
    "\n",
    "# Convert numeric columns\n",
    "for col in parsed_data.columns[3:]:  # Skipping first 3 non-numeric columns\n",
    "    parsed_data[col] = pd.to_numeric(parsed_data[col], errors='coerce')\n",
    "\n",
    "# Step 4: Handle missing values (if any)\n",
    "parsed_data.fillna(parsed_data.mean(), inplace=True)\n",
    "\n",
    "# Step 5: Select features and target\n",
    "features = parsed_data.drop(columns=[\"Dyslexia\"])\n",
    "target = parsed_data[\"Dyslexia\"]\n",
    "target = LabelEncoder().fit_transform(target)  # Encode the target\n",
    "\n",
    "# Step 6: Split data into training and testing sets\n",
    "X_train, X_test, y_train, y_test = train_test_split(features, target, test_size=0.2, random_state=42)\n",
    "\n",
    "# Step 7: Train a kNN classifier\n",
    "knn = KNeighborsClassifier(n_neighbors=5)\n",
    "knn.fit(X_train, y_train)\n",
    "\n",
    "# Step 8: Make predictions and evaluate\n",
    "y_pred = knn.predict(X_test)\n",
    "accuracy = accuracy_score(y_test, y_pred)\n",
    "classification_rep = classification_report(y_test, y_pred)\n",
    "\n",
    "accuracy, classification_rep\n"
   ]
  }
 ],
 "metadata": {
  "kernelspec": {
   "display_name": "base",
   "language": "python",
   "name": "python3"
  },
  "language_info": {
   "codemirror_mode": {
    "name": "ipython",
    "version": 3
   },
   "file_extension": ".py",
   "mimetype": "text/x-python",
   "name": "python",
   "nbconvert_exporter": "python",
   "pygments_lexer": "ipython3",
   "version": "3.12.4"
  }
 },
 "nbformat": 4,
 "nbformat_minor": 2
}
